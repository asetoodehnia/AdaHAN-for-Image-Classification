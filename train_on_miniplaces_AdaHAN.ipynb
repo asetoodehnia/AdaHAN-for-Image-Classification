{
 "cells": [
  {
   "cell_type": "code",
   "execution_count": 22,
   "metadata": {},
   "outputs": [
    {
     "name": "stdout",
     "output_type": "stream",
     "text": [
      "The autoreload extension is already loaded. To reload it, use:\n",
      "  %reload_ext autoreload\n"
     ]
    }
   ],
   "source": [
    "import torch\n",
    "import torchvision\n",
    "import torchvision.transforms as transforms\n",
    "\n",
    "from train import *\n",
    "from models import *\n",
    "import datasets\n",
    "\n",
    "import torch.nn as nn\n",
    "import torch.nn.functional as F\n",
    "import torch.optim as optim\n",
    "from torch.autograd import Variable\n",
    "\n",
    "import matplotlib.pyplot as plt\n",
    "import numpy as np\n",
    "import os\n",
    "\n",
    "%load_ext autoreload\n",
    "%autoreload 2"
   ]
  },
  {
   "cell_type": "code",
   "execution_count": 23,
   "metadata": {},
   "outputs": [],
   "source": [
    "device = torch.device(\"cuda:0\" if torch.cuda.is_available() else \"cpu\")"
   ]
  },
  {
   "cell_type": "code",
   "execution_count": 24,
   "metadata": {},
   "outputs": [],
   "source": [
    "# Load the data\n",
    "train_set = datasets.MiniplacesDataset('train')\n",
    "val_set = datasets.MiniplacesDataset('val')\n",
    "test_set = datasets.MiniplacesDataset('test')\n",
    "classes = []\n",
    "txt_root = './miniplaces/development_kit/data'\n",
    "txt_dir = os.path.join(txt_root, \"categories\" + '.txt')\n",
    "with open(txt_dir, 'r') as f:\n",
    "    for line in f:\n",
    "        tokens = line.strip().split()\n",
    "        classes.append(tokens[0])"
   ]
  },
  {
   "cell_type": "code",
   "execution_count": 25,
   "metadata": {},
   "outputs": [],
   "source": [
    "model = AdaHAN(hidden_size=8, n_classes=len(classes), k=5, adaptive=False)\n",
    "criterion = nn.CrossEntropyLoss()\n",
    "optimizer = optim.Adam(model.parameters(), lr=0.001)"
   ]
  },
  {
   "cell_type": "code",
   "execution_count": 26,
   "metadata": {
    "scrolled": false
   },
   "outputs": [
    {
     "name": "stdout",
     "output_type": "stream",
     "text": [
      "[1,  1250] loss: 4.555\n",
      "[1,  2500] loss: 4.483\n",
      "[1,  3750] loss: 4.445\n",
      "[1,  5000] loss: 4.459\n",
      "[1,  6250] loss: 4.410\n",
      "Accuracy: 0.032400 \n",
      "Loss: 4.370558 \n",
      "[2,  1250] loss: 4.386\n",
      "[2,  2500] loss: 4.360\n",
      "[2,  3750] loss: 4.332\n",
      "[2,  5000] loss: 4.309\n",
      "[2,  6250] loss: 4.294\n",
      "Accuracy: 0.044300 \n",
      "Loss: 4.270022 \n",
      "[3,  1250] loss: 4.269\n",
      "[3,  2500] loss: 4.246\n",
      "[3,  3750] loss: 4.236\n",
      "[3,  5000] loss: 4.221\n",
      "[3,  6250] loss: 4.220\n",
      "Accuracy: 0.060600 \n",
      "Loss: 4.201493 \n",
      "[4,  1250] loss: 4.198\n",
      "[4,  2500] loss: 4.205\n",
      "[4,  3750] loss: 4.201\n",
      "[4,  5000] loss: 4.191\n",
      "[4,  6250] loss: 4.192\n",
      "Accuracy: 0.062600 \n",
      "Loss: 4.174045 \n",
      "[5,  1250] loss: 4.192\n",
      "[5,  2500] loss: 4.192\n",
      "[5,  3750] loss: 4.176\n",
      "[5,  5000] loss: 4.178\n",
      "[5,  6250] loss: 4.181\n",
      "Accuracy: 0.064900 \n",
      "Loss: 4.165353 \n",
      "[6,  1250] loss: 4.182\n",
      "[6,  2500] loss: 4.177\n",
      "[6,  3750] loss: 4.179\n",
      "[6,  5000] loss: 4.169\n",
      "[6,  6250] loss: 4.174\n",
      "Accuracy: 0.058300 \n",
      "Loss: 4.161376 \n",
      "[7,  1250] loss: 4.152\n",
      "[7,  2500] loss: 4.176\n",
      "[7,  3750] loss: 4.183\n",
      "[7,  5000] loss: 4.184\n",
      "[7,  6250] loss: 4.152\n",
      "Accuracy: 0.065000 \n",
      "Loss: 4.143045 \n",
      "[8,  1250] loss: 4.136\n",
      "[8,  2500] loss: 4.143\n",
      "[8,  3750] loss: 4.140\n",
      "[8,  5000] loss: 4.135\n",
      "[8,  6250] loss: 4.135\n",
      "Accuracy: 0.072800 \n",
      "Loss: 4.118076 \n",
      "[9,  1250] loss: 4.130\n",
      "[9,  2500] loss: 4.135\n",
      "[9,  3750] loss: 4.107\n",
      "[9,  5000] loss: 4.110\n",
      "[9,  6250] loss: 4.129\n",
      "Accuracy: 0.069000 \n",
      "Loss: 4.106425 \n",
      "[10,  1250] loss: 4.107\n",
      "[10,  2500] loss: 4.105\n",
      "[10,  3750] loss: 4.113\n",
      "[10,  5000] loss: 4.105\n",
      "[10,  6250] loss: 4.112\n",
      "Accuracy: 0.070400 \n",
      "Loss: 4.108666 \n"
     ]
    },
    {
     "ename": "KeyboardInterrupt",
     "evalue": "",
     "output_type": "error",
     "traceback": [
      "\u001b[0;31m---------------------------------------------------------------------------\u001b[0m",
      "\u001b[0;31mKeyboardInterrupt\u001b[0m                         Traceback (most recent call last)",
      "\u001b[0;32m<ipython-input-26-80241581783a>\u001b[0m in \u001b[0;36m<module>\u001b[0;34m\u001b[0m\n\u001b[1;32m      1\u001b[0m train_losses, train_accs, val_losses, val_accs = train(model, criterion, optimizer, \n\u001b[1;32m      2\u001b[0m                                                        \u001b[0mtrain_set\u001b[0m\u001b[0;34m,\u001b[0m \u001b[0mval_set\u001b[0m\u001b[0;34m,\u001b[0m \u001b[0mnum_epochs\u001b[0m\u001b[0;34m=\u001b[0m\u001b[0;36m20\u001b[0m\u001b[0;34m,\u001b[0m\u001b[0;34m\u001b[0m\u001b[0;34m\u001b[0m\u001b[0m\n\u001b[0;32m----> 3\u001b[0;31m                                                        batch_size=16, device=device)\n\u001b[0m\u001b[1;32m      4\u001b[0m np.save(root + \"data/TRAIN_AdaHAN_hidden_size=8_k=5_Adam_lr=0.001_batch=16_epochs=20.npy\", \n\u001b[1;32m      5\u001b[0m         np.vstack([train_losses, train_accs]))\n",
      "\u001b[0;32m~/Documents/College/research/hard-attn-demo/AdaHAN-for-Image-Classification/train.py\u001b[0m in \u001b[0;36mtrain\u001b[0;34m(model, criterion, optimizer, train_set, val_set, num_epochs, batch_size, device)\u001b[0m\n\u001b[1;32m     45\u001b[0m             \u001b[0mclass_pred\u001b[0m\u001b[0;34m,\u001b[0m \u001b[0mlatent_mask\u001b[0m \u001b[0;34m=\u001b[0m \u001b[0mmodel\u001b[0m\u001b[0;34m(\u001b[0m\u001b[0minputs\u001b[0m\u001b[0;34m)\u001b[0m\u001b[0;34m\u001b[0m\u001b[0;34m\u001b[0m\u001b[0m\n\u001b[1;32m     46\u001b[0m             \u001b[0mloss\u001b[0m \u001b[0;34m=\u001b[0m \u001b[0mcriterion\u001b[0m\u001b[0;34m(\u001b[0m\u001b[0mclass_pred\u001b[0m\u001b[0;34m,\u001b[0m \u001b[0mlabels\u001b[0m\u001b[0;34m)\u001b[0m\u001b[0;34m\u001b[0m\u001b[0;34m\u001b[0m\u001b[0m\n\u001b[0;32m---> 47\u001b[0;31m             \u001b[0mloss\u001b[0m\u001b[0;34m.\u001b[0m\u001b[0mbackward\u001b[0m\u001b[0;34m(\u001b[0m\u001b[0;34m)\u001b[0m\u001b[0;34m\u001b[0m\u001b[0;34m\u001b[0m\u001b[0m\n\u001b[0m\u001b[1;32m     48\u001b[0m             \u001b[0moptimizer\u001b[0m\u001b[0;34m.\u001b[0m\u001b[0mstep\u001b[0m\u001b[0;34m(\u001b[0m\u001b[0;34m)\u001b[0m\u001b[0;34m\u001b[0m\u001b[0;34m\u001b[0m\u001b[0m\n\u001b[1;32m     49\u001b[0m \u001b[0;34m\u001b[0m\u001b[0m\n",
      "\u001b[0;32m~/opt/anaconda3/lib/python3.7/site-packages/torch/tensor.py\u001b[0m in \u001b[0;36mbackward\u001b[0;34m(self, gradient, retain_graph, create_graph)\u001b[0m\n\u001b[1;32m    164\u001b[0m                 \u001b[0mproducts\u001b[0m\u001b[0;34m.\u001b[0m \u001b[0mDefaults\u001b[0m \u001b[0mto\u001b[0m\u001b[0;31m \u001b[0m\u001b[0;31m`\u001b[0m\u001b[0;31m`\u001b[0m\u001b[0;32mFalse\u001b[0m\u001b[0;31m`\u001b[0m\u001b[0;31m`\u001b[0m\u001b[0;34m.\u001b[0m\u001b[0;34m\u001b[0m\u001b[0;34m\u001b[0m\u001b[0m\n\u001b[1;32m    165\u001b[0m         \"\"\"\n\u001b[0;32m--> 166\u001b[0;31m         \u001b[0mtorch\u001b[0m\u001b[0;34m.\u001b[0m\u001b[0mautograd\u001b[0m\u001b[0;34m.\u001b[0m\u001b[0mbackward\u001b[0m\u001b[0;34m(\u001b[0m\u001b[0mself\u001b[0m\u001b[0;34m,\u001b[0m \u001b[0mgradient\u001b[0m\u001b[0;34m,\u001b[0m \u001b[0mretain_graph\u001b[0m\u001b[0;34m,\u001b[0m \u001b[0mcreate_graph\u001b[0m\u001b[0;34m)\u001b[0m\u001b[0;34m\u001b[0m\u001b[0;34m\u001b[0m\u001b[0m\n\u001b[0m\u001b[1;32m    167\u001b[0m \u001b[0;34m\u001b[0m\u001b[0m\n\u001b[1;32m    168\u001b[0m     \u001b[0;32mdef\u001b[0m \u001b[0mregister_hook\u001b[0m\u001b[0;34m(\u001b[0m\u001b[0mself\u001b[0m\u001b[0;34m,\u001b[0m \u001b[0mhook\u001b[0m\u001b[0;34m)\u001b[0m\u001b[0;34m:\u001b[0m\u001b[0;34m\u001b[0m\u001b[0;34m\u001b[0m\u001b[0m\n",
      "\u001b[0;32m~/opt/anaconda3/lib/python3.7/site-packages/torch/autograd/__init__.py\u001b[0m in \u001b[0;36mbackward\u001b[0;34m(tensors, grad_tensors, retain_graph, create_graph, grad_variables)\u001b[0m\n\u001b[1;32m     97\u001b[0m     Variable._execution_engine.run_backward(\n\u001b[1;32m     98\u001b[0m         \u001b[0mtensors\u001b[0m\u001b[0;34m,\u001b[0m \u001b[0mgrad_tensors\u001b[0m\u001b[0;34m,\u001b[0m \u001b[0mretain_graph\u001b[0m\u001b[0;34m,\u001b[0m \u001b[0mcreate_graph\u001b[0m\u001b[0;34m,\u001b[0m\u001b[0;34m\u001b[0m\u001b[0;34m\u001b[0m\u001b[0m\n\u001b[0;32m---> 99\u001b[0;31m         allow_unreachable=True)  # allow_unreachable flag\n\u001b[0m\u001b[1;32m    100\u001b[0m \u001b[0;34m\u001b[0m\u001b[0m\n\u001b[1;32m    101\u001b[0m \u001b[0;34m\u001b[0m\u001b[0m\n",
      "\u001b[0;31mKeyboardInterrupt\u001b[0m: "
     ]
    }
   ],
   "source": [
    "train_losses, train_accs, val_losses, val_accs = train(model, criterion, optimizer, \n",
    "                                                       train_set, val_set, num_epochs=20,\n",
    "                                                       batch_size=16, device=device)\n",
    "np.save(root + \"data/TRAIN_AdaHAN_hidden_size=8_k=5_Adam_lr=0.001_batch=16_epochs=20.npy\", \n",
    "        np.vstack([train_losses, train_accs]))\n",
    "np.save(root + \"data/VAL_AdaHAN_hidden_size=8_k=5_Adam_lr=0.001_batch=16_epochs=20.npy\", \n",
    "        np.vstack([val_losses, val_accs]))\n",
    "torch.save(model.state_dict(), root + \"data/AdaHAN_hidden_size=8_k=5_Adam_lr=0.001_batch=16_epochs=20.pth\")"
   ]
  },
  {
   "cell_type": "code",
   "execution_count": 29,
   "metadata": {},
   "outputs": [],
   "source": [
    "torch.save(model.state_dict(), \"data/AdaHAN_hidden_size=8_k=5_Adam_lr=0.001_batch=16_epochs=10.pth\")"
   ]
  },
  {
   "cell_type": "code",
   "execution_count": null,
   "metadata": {},
   "outputs": [],
   "source": []
  }
 ],
 "metadata": {
  "kernelspec": {
   "display_name": "Python 3",
   "language": "python",
   "name": "python3"
  },
  "language_info": {
   "codemirror_mode": {
    "name": "ipython",
    "version": 3
   },
   "file_extension": ".py",
   "mimetype": "text/x-python",
   "name": "python",
   "nbconvert_exporter": "python",
   "pygments_lexer": "ipython3",
   "version": "3.7.4"
  }
 },
 "nbformat": 4,
 "nbformat_minor": 2
}
