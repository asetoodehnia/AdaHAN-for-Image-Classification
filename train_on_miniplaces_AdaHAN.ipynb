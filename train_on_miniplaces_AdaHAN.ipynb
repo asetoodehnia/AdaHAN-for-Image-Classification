{
 "cells": [
  {
   "cell_type": "code",
   "execution_count": 1,
   "metadata": {},
   "outputs": [],
   "source": [
    "import torch\n",
    "import torchvision\n",
    "import torchvision.transforms as transforms\n",
    "\n",
    "from load_data import *\n",
    "from models import *\n",
    "import torch.nn as nn\n",
    "import torch.nn.functional as F\n",
    "import torch.optim as optim\n",
    "from torch.autograd import Variable\n",
    "\n",
    "import matplotlib.pyplot as plt\n",
    "import numpy as np"
   ]
  },
  {
   "cell_type": "code",
   "execution_count": 3,
   "metadata": {},
   "outputs": [],
   "source": [
    "trainset, trainloader, testset, testloader, classes = get_miniplaces_data()\n",
    "\n",
    "model = AdaHAN(hidden_size=8, n_classes=len(classes), k=2, adaptive=False)\n",
    "criterion = nn.CrossEntropyLoss()\n",
    "# optimizer = optim.SGD(net.parameters(), lr=0.001, momentum=0.9)\n",
    "optimizer = optim.Adam(model.parameters(), lr=0.001)"
   ]
  },
  {
   "cell_type": "code",
   "execution_count": 4,
   "metadata": {},
   "outputs": [
    {
     "name": "stdout",
     "output_type": "stream",
     "text": [
      "[1,  2000] loss: 4.588\n",
      "[1,  4000] loss: 4.539\n",
      "[1,  6000] loss: 4.505\n",
      "[2,  2000] loss: 4.494\n",
      "[2,  4000] loss: 4.484\n",
      "[2,  6000] loss: 4.484\n",
      "[3,  2000] loss: 4.487\n",
      "[3,  4000] loss: 4.490\n",
      "[3,  6000] loss: 4.478\n",
      "[4,  2000] loss: 4.483\n",
      "[4,  4000] loss: 4.487\n",
      "[4,  6000] loss: 4.495\n",
      "[5,  2000] loss: 4.498\n",
      "[5,  4000] loss: 4.468\n",
      "[5,  6000] loss: 4.479\n",
      "Finished Training\n"
     ]
    }
   ],
   "source": [
    "for epoch in range(5):\n",
    "    model.train()  # set model in training mode (affects layers like dropout)\n",
    "    running_loss = 0.0\n",
    "    for i, (_, inputs, target) in enumerate(trainloader):\n",
    "        inputs = Variable(inputs)\n",
    "        target = Variable(target)\n",
    "        \n",
    "        optimizer.zero_grad()\n",
    "        class_pred, latent_mask = model(inputs)\n",
    "        loss = criterion(class_pred, target)\n",
    "        loss.backward()   # compute gradient\n",
    "        optimizer.step()  # optimizer step\n",
    "        \n",
    "        # print statistics\n",
    "        running_loss += loss.item()\n",
    "        if i % 2000 == 1999:    # print every 2000 mini-batches\n",
    "            print('[%d, %5d] loss: %.3f' %\n",
    "                  (epoch + 1, i + 1, running_loss / 2000))\n",
    "            running_loss = 0.0\n",
    "    \n",
    "print('Finished Training')"
   ]
  },
  {
   "cell_type": "code",
   "execution_count": 5,
   "metadata": {},
   "outputs": [],
   "source": [
    "PATH = './miniplaces_AdaHAN.pth'\n",
    "torch.save(model.state_dict(), PATH)"
   ]
  }
 ],
 "metadata": {
  "kernelspec": {
   "display_name": "Python 3",
   "language": "python",
   "name": "python3"
  },
  "language_info": {
   "codemirror_mode": {
    "name": "ipython",
    "version": 3
   },
   "file_extension": ".py",
   "mimetype": "text/x-python",
   "name": "python",
   "nbconvert_exporter": "python",
   "pygments_lexer": "ipython3",
   "version": "3.6.3"
  }
 },
 "nbformat": 4,
 "nbformat_minor": 2
}
